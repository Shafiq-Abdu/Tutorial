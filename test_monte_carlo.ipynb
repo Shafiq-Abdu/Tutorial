{
  "nbformat": 4,
  "nbformat_minor": 0,
  "metadata": {
    "colab": {
      "provenance": [],
      "authorship_tag": "ABX9TyPVTTwn7KLsY6LGId1J+HOS",
      "include_colab_link": true
    },
    "kernelspec": {
      "name": "python3",
      "display_name": "Python 3"
    },
    "language_info": {
      "name": "python"
    }
  },
  "cells": [
    {
      "cell_type": "markdown",
      "metadata": {
        "id": "view-in-github",
        "colab_type": "text"
      },
      "source": [
        "<a href=\"https://colab.research.google.com/github/Shafiq-Abdu/Tutorial/blob/main/test_monte_carlo.ipynb\" target=\"_parent\"><img src=\"https://colab.research.google.com/assets/colab-badge.svg\" alt=\"Open In Colab\"/></a>"
      ]
    },
    {
      "cell_type": "markdown",
      "source": [
        "Random Sampling: The script generates\n",
        "N random samples from a standard normal distribution to simulate the stochastic behavior of the stock price.\n",
        "\n",
        "Stock Price Simulation: Using these random samples, the future stock prices at maturity\n",
        "𝑆_\n",
        "𝑇\n",
        "\n",
        "​\n",
        "  are calculated using the geometric Brownian motion model.\n",
        "\n",
        "Payoff Calculation: For each simulated stock price, the payoff of the call option is computed as\n",
        "max\n",
        "⁡\n",
        "(\n",
        "𝑆_\n",
        "𝑇\n",
        "−\n",
        "𝐾\n",
        ",\n",
        "0\n",
        ")\n",
        ", which represents the profit if the option is exercised (if the stock price is above the strike price at maturity).\n",
        "\n",
        "Discounting: The average of these payoffs is discounted back to the present value using the risk-free rate to account for the time value of money."
      ],
      "metadata": {
        "id": "WrOuEpdpHA5V"
      }
    },
    {
      "cell_type": "code",
      "execution_count": null,
      "metadata": {
        "colab": {
          "base_uri": "https://localhost:8080/"
        },
        "id": "l6MnPRr1GOJh",
        "outputId": "ac5cd721-3654-44cd-d9a4-60cd972d5514"
      },
      "outputs": [
        {
          "output_type": "stream",
          "name": "stdout",
          "text": [
            "European Call Option Price: 8.066\n"
          ]
        }
      ],
      "source": [
        "import numpy as np\n",
        "\n",
        "# Parameters\n",
        "S0 = 100  # Current stock price\n",
        "K = 105  # Strike price\n",
        "T = 1.0  # Time to maturity (1 year)\n",
        "r = 0.05  # Risk-free interest rate\n",
        "sigma = 0.2  # Volatility\n",
        "N = 100000  # Number of simulations\n",
        "\n",
        "# Generate random values for Z\n",
        "Z = np.random.standard_normal(N)\n",
        "\n",
        "# Calculate stock prices at maturity\n",
        "ST = S0 * np.exp((r - 0.5 * sigma**2) * T + sigma * np.sqrt(T) * Z)\n",
        "\n",
        "# Calculate the payoff for call option\n",
        "payoff = np.maximum(ST - K, 0)\n",
        "\n",
        "# Discount the average payoff back to present value\n",
        "C = np.exp(-r * T) * np.mean(payoff)\n",
        "\n",
        "print(f\"European Call Option Price: {C:.3f}\")\n"
      ]
    }
  ]
}